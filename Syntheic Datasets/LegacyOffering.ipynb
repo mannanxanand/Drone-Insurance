# Synthetic Dataset Generated from Data Mined from SkyWatch's Quotation System

import pandas as pd
import numpy as np

# Seed for reproducibility
np.random.seed(0)

# Sample size for the dataset
num_samples = 100

# Price structure based on your details
drone_prices = {
    "Consumer Drone": 90,
    "Professional Photography Drone": 146,
    "Enterprise": 975,
    "Agriculture": 1170,
    "Racing": 39,
    "High End Consumer": 137,
    "Surveying and Mapping": 683,
    "Industrial Inspection": 3000,  # Assuming high risk implies a direct cost
}

liability_prices = {
    "0.5M": 466,
    "1M": 665,
    "2M": 1131,
    "5M": 2195,
    "10M": 3392,
}

additional_insured_prices = {
    "3-5": 1033 - 466,  # Adjusted
    "1-2": 0,  # Base rate, no additional cost
}

personal_ad_injury_coverage_prices = {
    "25000": 0,  # Included
    "100000": 84,
    "1000000": 175,
}

medical_expense_prices = {
    "500": 0,  # Included
    "1000": 36,
    "2000": 60,
    "5000": 84,
}

# Generating random data
df = pd.DataFrame({
    'Drone Type': np.random.choice(list(drone_prices.keys()), num_samples),
    'Liability Limit': np.random.choice(list(liability_prices.keys()), num_samples),
    'Number of Drones': np.random.choice(list(additional_insured_prices.keys()), num_samples),
    'Personal Advertising Injury Coverage': np.random.choice(list(personal_ad_injury_coverage_prices.keys()), num_samples),
    'Medical Expense': np.random.choice(list(medical_expense_prices.keys()), num_samples),
    'Drone Value': np.random.uniform(500, 30000, num_samples),  # Random drone value between $500 and $30000
})

# Calculating prices
df['Base Price'] = df['Drone Type'].map(drone_prices)
df['Liability Price'] = df['Liability Limit'].map(liability_prices)
df['Additional Insured Price'] = df['Number of Drones'].map(additional_insured_prices)
df['Personal Ad Injury Price'] = df['Personal Advertising Injury Coverage'].map(personal_ad_injury_coverage_prices)
df['Medical Expense Price'] = df['Medical Expense'].map(medical_expense_prices)
df['Total Price'] = df[['Base Price', 'Liability Price', 'Additional Insured Price', 'Personal Ad Injury Price', 'Medical Expense Price']].sum(axis=1)

# Adjusting for drone value-based pricing for Industrial Inspection
industrial_mask = df['Drone Type'] == 'Industrial Inspection'
df.loc[industrial_mask, 'Base Price'] = df['Drone Value'] * 0.1
df.loc[industrial_mask, 'Total Price'] = df.loc[industrial_mask, ['Base Price', 'Liability Price', 'Additional Insured Price', 'Personal Ad Injury Price', 'Medical Expense Price']].sum(axis=1)

# Display the first few rows of the dataframe
print(df.head())

# Saving the dataframe to a CSV file (Excel can be used as well by changing to to_excel)
df.to_csv('synthetic_dataset.csv', index=False)
